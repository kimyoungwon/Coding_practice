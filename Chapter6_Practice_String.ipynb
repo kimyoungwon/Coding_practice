{
  "nbformat": 4,
  "nbformat_minor": 0,
  "metadata": {
    "colab": {
      "name": "Chapter6_Practice_String.ipynb",
      "provenance": [],
      "authorship_tag": "ABX9TyOTvPkHqoGsSV08G9KrTJyv",
      "include_colab_link": true
    },
    "kernelspec": {
      "name": "python3",
      "display_name": "Python 3"
    },
    "language_info": {
      "name": "python"
    }
  },
  "cells": [
    {
      "cell_type": "markdown",
      "metadata": {
        "id": "view-in-github",
        "colab_type": "text"
      },
      "source": [
        "<a href=\"https://colab.research.google.com/github/kimyoungwon/Coding_practice/blob/main/Chapter6_Practice_String.ipynb\" target=\"_parent\"><img src=\"https://colab.research.google.com/assets/colab-badge.svg\" alt=\"Open In Colab\"/></a>"
      ]
    },
    {
      "cell_type": "markdown",
      "metadata": {
        "id": "4JEqvAvrUbb6"
      },
      "source": [
        "## `String`"
      ]
    },
    {
      "cell_type": "code",
      "metadata": {
        "id": "gEBo8sI0UUXB"
      },
      "source": [
        "str = 'A man, a plan, a canal: Panama'"
      ],
      "execution_count": 65,
      "outputs": []
    },
    {
      "cell_type": "code",
      "metadata": {
        "id": "WQpuYFMLUasY"
      },
      "source": [
        "class Solution:\n",
        "    def isPalindrome(self, s: str) -> bool:\n",
        "        strs = []\n",
        "        for char in s:\n",
        "            if char.isalnum():\n",
        "                strs.append(char.lower())\n",
        "\n",
        "        # 팰린드롬 여부 판별\n",
        "        while len(strs) > 1:\n",
        "            if strs.pop(0) != strs.pop():\n",
        "                return False\n",
        "\n",
        "        return True"
      ],
      "execution_count": 3,
      "outputs": []
    },
    {
      "cell_type": "code",
      "metadata": {
        "id": "cvzBgcoeVOtY"
      },
      "source": [
        "import collections\n",
        "from typing import Deque\n",
        "\n",
        "\n",
        "class Solution:\n",
        "    def isPalindrome(self, s: str) -> bool:\n",
        "        # 자료형 데크로 선언\n",
        "        strs: Deque = collections.deque()\n",
        "\n",
        "        for char in s:\n",
        "            if char.isalnum():\n",
        "                strs.append(char.lower())\n",
        "\n",
        "        while len(strs) > 1:\n",
        "            if strs.popleft() != strs.pop():\n",
        "                return False\n",
        "\n",
        "        return True"
      ],
      "execution_count": 30,
      "outputs": []
    },
    {
      "cell_type": "code",
      "metadata": {
        "id": "hkIRVktrYWwo"
      },
      "source": [
        "import re\n",
        "\n",
        "\n",
        "class Solution:\n",
        "    def isPalindrome(self, s: str) -> bool:\n",
        "        s = s.lower()\n",
        "        # 정규식으로 불필요한 문자 필터링\n",
        "        s = re.sub('[^a-z0-9]', '', s)\n",
        "\n",
        "        return s == s[::-1]  # 슬라이싱"
      ],
      "execution_count": 35,
      "outputs": []
    },
    {
      "cell_type": "code",
      "metadata": {
        "id": "A5dc0K1jUa6u"
      },
      "source": [
        "strs = re.sub('[^a-z0-9]','',str.lower())"
      ],
      "execution_count": 61,
      "outputs": []
    },
    {
      "cell_type": "code",
      "metadata": {
        "colab": {
          "base_uri": "https://localhost:8080/",
          "height": 35
        },
        "id": "-jC1sm0CfrdH",
        "outputId": "3f684bf8-5562-4f9e-c875-992fd047ffc0"
      },
      "source": [
        "strs"
      ],
      "execution_count": 62,
      "outputs": [
        {
          "output_type": "execute_result",
          "data": {
            "application/vnd.google.colaboratory.intrinsic+json": {
              "type": "string"
            },
            "text/plain": [
              "'amanaplanacanalpanama'"
            ]
          },
          "metadata": {
            "tags": []
          },
          "execution_count": 62
        }
      ]
    },
    {
      "cell_type": "code",
      "metadata": {
        "colab": {
          "base_uri": "https://localhost:8080/"
        },
        "id": "B7KM_JLAf7fz",
        "outputId": "6922242d-fc68-4bef-eda1-33cec4d8a342"
      },
      "source": [
        "strs==strs[::-1]"
      ],
      "execution_count": 64,
      "outputs": [
        {
          "output_type": "execute_result",
          "data": {
            "text/plain": [
              "True"
            ]
          },
          "metadata": {
            "tags": []
          },
          "execution_count": 64
        }
      ]
    },
    {
      "cell_type": "markdown",
      "metadata": {
        "id": "6B1-zUwVqIhL"
      },
      "source": [
        "코딩연습 (문자열 다루기)\n",
        "\n",
        "문자열 s의 길이가 4 혹은 6이고, 숫자로만 구성돼있는지 확인해주는 함수, solution을 완성하세요. 예를 들어 s가 \"a234\"이면 False를 리턴하고 \"1234\"라면 True를 리턴하면 됩니다.\n",
        "\n",
        "* 제한 사항: s는 길이 1 이상, 길이 8 이하인 문자열입니다."
      ]
    },
    {
      "cell_type": "code",
      "metadata": {
        "id": "kkcEdngbj_Ei"
      },
      "source": [
        "b = \"123\""
      ],
      "execution_count": 69,
      "outputs": []
    },
    {
      "cell_type": "code",
      "metadata": {
        "id": "JE1vOsfgi0F6"
      },
      "source": [
        "def solution(s):\n",
        "    if len(s) == 4 or len(s) == 6 :\n",
        "        answer = s.isnumeric()\n",
        "        return  answer\n",
        "    else:\n",
        "        return  False"
      ],
      "execution_count": 75,
      "outputs": []
    },
    {
      "cell_type": "code",
      "metadata": {
        "id": "CWtgYPSHqR2I"
      },
      "source": [
        "def solution(s):\n",
        "    return s.isnumeric() and len(s) in (4,6)"
      ],
      "execution_count": null,
      "outputs": []
    }
  ]
}